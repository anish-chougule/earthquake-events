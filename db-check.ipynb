{
 "cells": [
  {
   "cell_type": "code",
   "execution_count": 4,
   "metadata": {},
   "outputs": [
    {
     "name": "stdout",
     "output_type": "stream",
     "text": [
      "Tables in the database:\n",
      "subscriptions\n",
      "\n",
      "Data in the 'subscriptions' table:\n",
      "('alex@walex.com', 2.5, 'earthquake', False)\n"
     ]
    }
   ],
   "source": [
    "import psycopg2\n",
    "from config import POSTGRES_CONFIG  # Import PostgreSQL credentials\n",
    "\n",
    "# Connect to the PostgreSQL database\n",
    "conn = psycopg2.connect(POSTGRES_CONFIG['uri'])\n",
    "\n",
    "# Create a cursor object\n",
    "cursor = conn.cursor()\n",
    "\n",
    "# Execute a query to retrieve all table names\n",
    "cursor.execute(\"SELECT table_name FROM information_schema.tables WHERE table_schema = 'public';\")\n",
    "\n",
    "# Fetch all results\n",
    "tables = cursor.fetchall()\n",
    "print(\"Tables in the database:\")\n",
    "for table in tables:\n",
    "    print(table[0])\n",
    "\n",
    "# Query to retrieve all data from the 'subscriptions' table\n",
    "cursor.execute(\"SELECT * FROM subscriptions\")\n",
    "\n",
    "# Fetch all results\n",
    "data = cursor.fetchall()\n",
    "\n",
    "# Display the data\n",
    "print(\"\\nData in the 'subscriptions' table:\")\n",
    "for row in data:\n",
    "    print(row)\n",
    "\n",
    "# Close the cursor and connection\n",
    "cursor.close()\n",
    "conn.close()"
   ]
  },
  {
   "cell_type": "code",
   "execution_count": 7,
   "metadata": {},
   "outputs": [
    {
     "data": {
      "text/html": [
       "<div>\n",
       "<style scoped>\n",
       "    .dataframe tbody tr th:only-of-type {\n",
       "        vertical-align: middle;\n",
       "    }\n",
       "\n",
       "    .dataframe tbody tr th {\n",
       "        vertical-align: top;\n",
       "    }\n",
       "\n",
       "    .dataframe thead th {\n",
       "        text-align: right;\n",
       "    }\n",
       "</style>\n",
       "<table border=\"1\" class=\"dataframe\">\n",
       "  <thead>\n",
       "    <tr style=\"text-align: right;\">\n",
       "      <th></th>\n",
       "      <th>Email</th>\n",
       "      <th>Magnitude</th>\n",
       "      <th>Event_Type</th>\n",
       "      <th>sent</th>\n",
       "    </tr>\n",
       "  </thead>\n",
       "  <tbody>\n",
       "    <tr>\n",
       "      <th>0</th>\n",
       "      <td>alex@walex.com</td>\n",
       "      <td>2.5</td>\n",
       "      <td>earthquake</td>\n",
       "      <td>False</td>\n",
       "    </tr>\n",
       "  </tbody>\n",
       "</table>\n",
       "</div>"
      ],
      "text/plain": [
       "            Email  Magnitude  Event_Type   sent\n",
       "0  alex@walex.com        2.5  earthquake  False"
      ]
     },
     "execution_count": 7,
     "metadata": {},
     "output_type": "execute_result"
    }
   ],
   "source": [
    "import pandas as pd\n",
    "\n",
    "# Create a test dataframe using the data variable\n",
    "df = pd.DataFrame(data, columns=['Email','Magnitude', 'Event_Type', 'sent'])\n",
    "df"
   ]
  }
 ],
 "metadata": {
  "kernelspec": {
   "display_name": "DataEngEnv",
   "language": "python",
   "name": "python3"
  },
  "language_info": {
   "codemirror_mode": {
    "name": "ipython",
    "version": 3
   },
   "file_extension": ".py",
   "mimetype": "text/x-python",
   "name": "python",
   "nbconvert_exporter": "python",
   "pygments_lexer": "ipython3",
   "version": "3.11.11"
  }
 },
 "nbformat": 4,
 "nbformat_minor": 2
}
